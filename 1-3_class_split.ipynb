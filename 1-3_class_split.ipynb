{
 "cells": [
  {
   "cell_type": "code",
   "execution_count": 1,
   "metadata": {},
   "outputs": [],
   "source": [
    "import os\n",
    "import shutil"
   ]
  },
  {
   "cell_type": "code",
   "execution_count": 2,
   "metadata": {},
   "outputs": [
    {
     "name": "stdout",
     "output_type": "stream",
     "text": [
      "c:\\Users\\SBA\\repository\\image_detection\\snack_dataAugmentation_random\n"
     ]
    }
   ],
   "source": [
    "# 원본 폴더 경로와 이동할 목적지 폴더 경로를 설정합니다.\n",
    "base_root = os.getcwd()\n",
    "source_folder = 'snack_dataAugmentation_random'\n",
    "destination_root = os.path.join(base_root, source_folder)\n",
    "\n",
    "print(destination_root)"
   ]
  },
  {
   "cell_type": "code",
   "execution_count": 3,
   "metadata": {},
   "outputs": [
    {
     "name": "stdout",
     "output_type": "stream",
     "text": [
      "파일 이동 완료\n"
     ]
    }
   ],
   "source": [
    "# 원본 폴더 내의 모든 파일을 반복\n",
    "for filename in os.listdir(source_folder):\n",
    "    if '_' in filename:  # 파일명에 '_'가 포함된 경우에만 처리\n",
    "        # 파일명에서 첫 번째 인덱스의 숫자를 가져옴\n",
    "        folder_name = filename.split('_')[0]\n",
    "\n",
    "        # 숫자에 따라 폴더를 생성하고 이동\n",
    "        destination_folder = os.path.join(destination_root, folder_name)\n",
    "        os.makedirs(destination_folder, exist_ok=True)  # 폴더가 없으면 생성\n",
    "\n",
    "        # 파일을 해당 폴더로 이동\n",
    "        source_file = os.path.join(source_folder, filename)\n",
    "        destination_file = os.path.join(destination_folder, filename)\n",
    "        shutil.move(source_file, destination_file)\n",
    "\n",
    "print(\"파일 이동 완료\")"
   ]
  },
  {
   "cell_type": "code",
   "execution_count": null,
   "metadata": {},
   "outputs": [],
   "source": []
  }
 ],
 "metadata": {
  "kernelspec": {
   "display_name": "yolov11",
   "language": "python",
   "name": "python3"
  },
  "language_info": {
   "codemirror_mode": {
    "name": "ipython",
    "version": 3
   },
   "file_extension": ".py",
   "mimetype": "text/x-python",
   "name": "python",
   "nbconvert_exporter": "python",
   "pygments_lexer": "ipython3",
   "version": "3.10.15"
  }
 },
 "nbformat": 4,
 "nbformat_minor": 2
}
