{
 "cells": [
  {
   "cell_type": "code",
   "execution_count": 11,
   "id": "a3ef9280-f2d6-4f54-95ba-7e78105182a2",
   "metadata": {},
   "outputs": [],
   "source": [
    "import os\n",
    "import shutil"
   ]
  },
  {
   "cell_type": "code",
   "execution_count": 14,
   "id": "8cf1a29e-079c-481a-9e96-0f58a636fa0a",
   "metadata": {},
   "outputs": [
    {
     "data": {
      "text/plain": [
       "'/Users/wonkyoung/yolov11/snack_project'"
      ]
     },
     "execution_count": 14,
     "metadata": {},
     "output_type": "execute_result"
    }
   ],
   "source": [
    "# test, valid data directory 만들기\n",
    "# snack1, snack2, snack3\n",
    "\n",
    "labelList = ['snack1', 'snack2', 'snack3']\n",
    "basePath = os.getcwd()\n",
    "basePath\n",
    "\n",
    "# for label in labelList:\n",
    "#     os.makedirs(os.path.join(basePath, label), exist_ok=True)\n",
    "#     os.makedirs(os.path.join(os.path.join(basePath, label),'raw'), exist_ok=True)\n",
    "#     os.makedirs(os.path.join(os.path.join(basePath, label),'train'), exist_ok=True)\n",
    "#     os.makedirs(os.path.join(os.path.join(basePath, label),'valid'), exist_ok=True)\n",
    "#     os.makedirs(os.path.join(os.path.join(basePath, label),'test'), exist_ok=True)\n",
    "    "
   ]
  },
  {
   "cell_type": "code",
   "execution_count": 16,
   "id": "dc31d2ee-455b-4025-bcaf-97d31d6074b3",
   "metadata": {},
   "outputs": [],
   "source": [
    "# # 각 클래스로 파일 옮기기\n",
    "\n",
    "# # '/Users/wonkyoung/yolov11/snack_project/snack_dataOrg2_augmentation'\n",
    "# rawDataPath = os.path.join(basePath, 'snack_dataOrg2_augmentation')\n",
    "# # len(os.listdir(rawDataPath))\n",
    "# rawDataList = os.listdir(rawDataPath)\n",
    "# rawdata.split('_')[1]\n",
    "\n",
    "# for rawdata in rawDataList:\n",
    "#     fileLabel = rawdata.split('_')[1]\n",
    "#     for label in labelList:\n",
    "#         if fileLabel == label:\n",
    "#             shutil.move(os.path.join(rawDataPath, rawdata), os.path.join(os.path.join(basePath, label),'raw'))\n",
    "        "
   ]
  },
  {
   "cell_type": "code",
   "execution_count": 35,
   "id": "c427f4fb-cb23-47e8-85c0-1f35fbb8dd49",
   "metadata": {},
   "outputs": [],
   "source": [
    "# 클래스별 train, valid, test 데이터 나누기\n",
    "import glob\n",
    "\n",
    "def get_jpg_files(directory):\n",
    "    # imgFiles = glob.glob(os.path.join(directory, '*.jpg'))\n",
    "    image_files = [f for f in os.listdir(directory) if f.endswith('.jpg')]\n",
    "    random.shuffle(image_files)\n",
    "    return image_files\n",
    "    \n",
    "\n",
    "# 파일 복사 함수\n",
    "def copy_files(data_dir, output_dir, file_list, subset):\n",
    "    for image_file in file_list:\n",
    "        # 이미지 파일 복사\n",
    "        shutil.copy(\n",
    "            os.path.join(data_dir, image_file),\n",
    "            os.path.join(output_dir, subset, 'images', image_file)\n",
    "        )\n",
    "\n",
    "        # 이미지 파일과 동일한 이름의 텍스트 파일 복사\n",
    "        txt_file = image_file.replace('.jpg', '.txt')\n",
    "        txt_path = os.path.join(data_dir, txt_file)\n",
    "        if os.path.exists(txt_path):  # 텍스트 파일이 존재할 경우에만 복사\n",
    "            shutil.copy(\n",
    "                txt_path,\n",
    "                os.path.join(output_dir, subset, 'labels', txt_file)\n",
    "            )\n"
   ]
  },
  {
   "cell_type": "code",
   "execution_count": 32,
   "id": "2233783b-6345-495e-847e-b72b00b4790a",
   "metadata": {},
   "outputs": [
    {
     "name": "stdout",
     "output_type": "stream",
     "text": [
      "/Users/wonkyoung/yolov11/snack_project/snack1/raw\n"
     ]
    },
    {
     "ename": "TypeError",
     "evalue": "'NoneType' object is not subscriptable",
     "output_type": "error",
     "traceback": [
      "\u001b[0;31m---------------------------------------------------------------------------\u001b[0m",
      "\u001b[0;31mTypeError\u001b[0m                                 Traceback (most recent call last)",
      "Cell \u001b[0;32mIn[32], line 8\u001b[0m\n\u001b[1;32m      6\u001b[0m \u001b[38;5;28mprint\u001b[39m(snack1Path)\n\u001b[1;32m      7\u001b[0m snack1_jpg_files \u001b[38;5;241m=\u001b[39m get_jpg_files(snack1Path)\n\u001b[0;32m----> 8\u001b[0m \u001b[38;5;28mprint\u001b[39m(\u001b[43msnack1_jpg_files\u001b[49m\u001b[43m[\u001b[49m\u001b[38;5;241;43m0\u001b[39;49m\u001b[43m:\u001b[49m\u001b[38;5;241;43m10\u001b[39;49m\u001b[43m]\u001b[49m)\n",
      "\u001b[0;31mTypeError\u001b[0m: 'NoneType' object is not subscriptable"
     ]
    }
   ],
   "source": [
    "snack1Path = os.path.join(basePath, 'snack1/raw')\n",
    "snack2Path = os.path.join(basePath, 'snack2/raw')\n",
    "snack3Path = os.path.join(basePath, 'snack3/raw')\n",
    "\n",
    "\n",
    "print(snack1Path)\n",
    "snack1_jpg_files = get_jpg_files(snack1Path)\n",
    "print(snack1_jpg_files[0:10])"
   ]
  },
  {
   "cell_type": "code",
   "execution_count": 34,
   "id": "2b70477b-e295-4fcf-b98f-b0529cfd8545",
   "metadata": {},
   "outputs": [
    {
     "name": "stdout",
     "output_type": "stream",
     "text": [
      "None\n"
     ]
    }
   ],
   "source": [
    "image_files = [f for f in os.listdir(snack1Path) if f.endswith('.jpg')]\n",
    "print(random.shuffle(image_files[:10]))"
   ]
  },
  {
   "cell_type": "code",
   "execution_count": 36,
   "id": "9c3bd0ab-d0f8-494b-8b0e-ec1e4915e0a6",
   "metadata": {},
   "outputs": [],
   "source": [
    "\n",
    "snack1_jpg_files = get_jpg_files(snack1Path)\n",
    "snack2_jpg_files = get_jpg_files(snack2Path)\n",
    "snack3_jpg_files = get_jpg_files(snack3Path)\n",
    "\n",
    "\n",
    "# 데이터셋 분할 인덱스 계산\n",
    "total_count = len(snack1_jpg_files)\n",
    "train_end = int(total_count * 0.8)\n",
    "valid_end = int(total_count * 0.9)\n",
    "\n",
    "copy_files(snack1Path, os.path.join(basePath, 'snack1'), snack1_jpg_files[:train_end], 'train')\n",
    "copy_files(snack1Path, os.path.join(basePath, 'snack1'), snack1_jpg_files[train_end:valid_end], 'valid')\n",
    "copy_files(snack1Path, os.path.join(basePath, 'snack1'), snack1_jpg_files[valid_end:], 'test')\n",
    "\n",
    "copy_files(snack2Path, os.path.join(basePath, 'snack2'), snack2_jpg_files[:train_end], 'train')\n",
    "copy_files(snack2Path, os.path.join(basePath, 'snack2'), snack2_jpg_files[train_end:valid_end], 'valid')\n",
    "copy_files(snack2Path, os.path.join(basePath, 'snack2'), snack2_jpg_files[valid_end:], 'test')\n",
    "\n",
    "copy_files(snack3Path, os.path.join(basePath, 'snack3'), snack3_jpg_files[:train_end], 'train')\n",
    "copy_files(snack3Path, os.path.join(basePath, 'snack3'), snack3_jpg_files[train_end:valid_end], 'valid')\n",
    "copy_files(snack3Path, os.path.join(basePath, 'snack3'), snack3_jpg_files[valid_end:], 'test')\n"
   ]
  },
  {
   "cell_type": "code",
   "execution_count": 15,
   "id": "2dd4fe82-fca3-4ba3-87ea-d10bf52174be",
   "metadata": {},
   "outputs": [],
   "source": [
    "# os.makedirs(os.path.join(basePath, 'snack1/train/images'))\n",
    "# os.makedirs(os.path.join(basePath, 'snack1/train/labels'))\n",
    "# os.makedirs(os.path.join(basePath, 'snack1/valid/images'))\n",
    "# os.makedirs(os.path.join(basePath, 'snack1/valid/labels'))\n",
    "# os.makedirs(os.path.join(basePath, 'snack1/test/images'))\n",
    "# os.makedirs(os.path.join(basePath, 'snack1/test/labels'))\n",
    "\n",
    "# os.makedirs(os.path.join(basePath, 'snack2/train/images'))\n",
    "# os.makedirs(os.path.join(basePath, 'snack2/train/labels'))\n",
    "# os.makedirs(os.path.join(basePath, 'snack2/valid/images'))\n",
    "# os.makedirs(os.path.join(basePath, 'snack2/valid/labels'))\n",
    "# os.makedirs(os.path.join(basePath, 'snack2/test/images'))\n",
    "# os.makedirs(os.path.join(basePath, 'snack2/test/labels'))\n",
    "\n",
    "# os.makedirs(os.path.join(basePath, 'snack3/train/images'))\n",
    "# os.makedirs(os.path.join(basePath, 'snack3/train/labels'))\n",
    "# os.makedirs(os.path.join(basePath, 'snack3/valid/images'))\n",
    "# os.makedirs(os.path.join(basePath, 'snack3/valid/labels'))\n",
    "# os.makedirs(os.path.join(basePath, 'snack3/test/images'))\n",
    "# os.makedirs(os.path.join(basePath, 'snack3/test/labels'))"
   ]
  },
  {
   "cell_type": "code",
   "execution_count": null,
   "id": "f8878381-4704-4203-ad19-8c79b380ddc4",
   "metadata": {},
   "outputs": [],
   "source": [
    "import os\n",
    "import shutil\n",
    "import random\n",
    "\n",
    "def split_dataset(data_dir, output_dir, train_ratio=0.8, valid_ratio=0.1):\n",
    "    # 데이터 폴더에서 모든 jpg 파일 목록을 가져오기 (txt 파일은 jpg 파일과 짝지어 이동)\n",
    "    image_files = [f for f in os.listdir(data_dir) if f.endswith('.jpg')]\n",
    "    random.shuffle(image_files)  # 무작위로 파일 리스트 섞기\n",
    "\n",
    "    # 데이터셋 분할 인덱스 계산\n",
    "    total_count = len(image_files)\n",
    "    train_end = int(total_count * train_ratio)\n",
    "    valid_end = int(total_count * (train_ratio + valid_ratio))\n",
    "\n",
    "    # 폴더 경로 생성\n",
    "    for subset in ['train', 'valid', 'test']:\n",
    "        os.makedirs(os.path.join(output_dir, subset, 'images'), exist_ok=True)\n",
    "        os.makedirs(os.path.join(output_dir, subset, 'labels'), exist_ok=True)\n",
    "\n",
    "    # 파일 복사 함수\n",
    "    def copy_files(file_list, subset):\n",
    "        for image_file in file_list:\n",
    "            # 이미지 파일 복사\n",
    "            shutil.copy(\n",
    "                os.path.join(data_dir, image_file),\n",
    "                os.path.join(output_dir, subset, 'images', image_file)\n",
    "            )\n",
    "\n",
    "            # 이미지 파일과 동일한 이름의 텍스트 파일 복사\n",
    "            txt_file = image_file.replace('.jpg', '.txt')\n",
    "            txt_path = os.path.join(data_dir, txt_file)\n",
    "            if os.path.exists(txt_path):  # 텍스트 파일이 존재할 경우에만 복사\n",
    "                shutil.copy(\n",
    "                    txt_path,\n",
    "                    os.path.join(output_dir, subset, 'labels', txt_file)\n",
    "                )\n",
    "\n",
    "    # 데이터셋을 train, valid, test로 나누어 복사\n",
    "    copy_files(image_files[:train_end], 'train')\n",
    "    copy_files(image_files[train_end:valid_end], 'valid')\n",
    "    copy_files(image_files[valid_end:], 'test')\n",
    "\n",
    "    print(f\"데이터셋 분할 완료: {output_dir}/train, {output_dir}/valid, {output_dir}/test\")\n",
    "\n",
    "    # 각 폴더의 파일 개수를 계산하는 함수\n",
    "    def count_files_in_directory(directory):\n",
    "        return len([f for f in os.listdir(directory) if os.path.isfile(os.path.join(directory, f))])\n",
    "\n",
    "    # 각 폴더의 파일 개수 출력\n",
    "    print(f\"Train 폴더 이미지 개수: {count_files_in_directory(os.path.join(output_dir, 'train', 'images'))}\")\n",
    "    print(f\"Train 폴더 라벨 개수: {count_files_in_directory(os.path.join(output_dir, 'train', 'labels'))}\")\n",
    "    print(f\"Valid 폴더 이미지 개수: {count_files_in_directory(os.path.join(output_dir, 'valid', 'images'))}\")\n",
    "    print(f\"Valid 폴더 라벨 개수: {count_files_in_directory(os.path.join(output_dir, 'valid', 'labels'))}\")\n",
    "    print(f\"Test 폴더 이미지 개수: {count_files_in_directory(os.path.join(output_dir, 'test', 'images'))}\")\n",
    "    print(f\"Test 폴더 라벨 개수: {count_files_in_directory(os.path.join(output_dir, 'test', 'labels'))}\")\n",
    "\n",
    "# 메인 함수 실행\n",
    "data_dir = 'snack_image_data'  # 원본 데이터 폴더 경로\n",
    "output_dir = 'snack_split_data'  # 데이터를 나눠서 저장할 폴더\n",
    "split_dataset(data_dir, output_dir)"
   ]
  },
  {
   "cell_type": "code",
   "execution_count": 37,
   "id": "b0b00e82-19c3-4462-99cf-cf72f0ef69a5",
   "metadata": {},
   "outputs": [
    {
     "name": "stdout",
     "output_type": "stream",
     "text": [
      "Requirement already satisfied: ultralytics in /opt/miniconda3/envs/pytorch/lib/python3.10/site-packages (8.3.6)\n",
      "Requirement already satisfied: numpy>=1.23.0 in /opt/miniconda3/envs/pytorch/lib/python3.10/site-packages (from ultralytics) (1.26.4)\n",
      "Requirement already satisfied: matplotlib>=3.3.0 in /opt/miniconda3/envs/pytorch/lib/python3.10/site-packages (from ultralytics) (3.9.2)\n",
      "Requirement already satisfied: opencv-python>=4.6.0 in /opt/miniconda3/envs/pytorch/lib/python3.10/site-packages (from ultralytics) (4.10.0.84)\n",
      "Requirement already satisfied: pillow>=7.1.2 in /opt/miniconda3/envs/pytorch/lib/python3.10/site-packages (from ultralytics) (10.4.0)\n",
      "Requirement already satisfied: pyyaml>=5.3.1 in /opt/miniconda3/envs/pytorch/lib/python3.10/site-packages (from ultralytics) (6.0.1)\n",
      "Requirement already satisfied: requests>=2.23.0 in /opt/miniconda3/envs/pytorch/lib/python3.10/site-packages (from ultralytics) (2.32.3)\n",
      "Requirement already satisfied: scipy>=1.4.1 in /opt/miniconda3/envs/pytorch/lib/python3.10/site-packages (from ultralytics) (1.13.1)\n",
      "Requirement already satisfied: torch>=1.8.0 in /opt/miniconda3/envs/pytorch/lib/python3.10/site-packages (from ultralytics) (2.4.0)\n",
      "Requirement already satisfied: torchvision>=0.9.0 in /opt/miniconda3/envs/pytorch/lib/python3.10/site-packages (from ultralytics) (0.19.0)\n",
      "Requirement already satisfied: tqdm>=4.64.0 in /opt/miniconda3/envs/pytorch/lib/python3.10/site-packages (from ultralytics) (4.66.5)\n",
      "Requirement already satisfied: psutil in /opt/miniconda3/envs/pytorch/lib/python3.10/site-packages (from ultralytics) (6.0.0)\n",
      "Requirement already satisfied: py-cpuinfo in /opt/miniconda3/envs/pytorch/lib/python3.10/site-packages (from ultralytics) (9.0.0)\n",
      "Requirement already satisfied: pandas>=1.1.4 in /opt/miniconda3/envs/pytorch/lib/python3.10/site-packages (from ultralytics) (2.2.3)\n",
      "Requirement already satisfied: seaborn>=0.11.0 in /opt/miniconda3/envs/pytorch/lib/python3.10/site-packages (from ultralytics) (0.13.2)\n",
      "Requirement already satisfied: ultralytics-thop>=2.0.0 in /opt/miniconda3/envs/pytorch/lib/python3.10/site-packages (from ultralytics) (2.0.8)\n",
      "Requirement already satisfied: contourpy>=1.0.1 in /opt/miniconda3/envs/pytorch/lib/python3.10/site-packages (from matplotlib>=3.3.0->ultralytics) (1.3.0)\n",
      "Requirement already satisfied: cycler>=0.10 in /opt/miniconda3/envs/pytorch/lib/python3.10/site-packages (from matplotlib>=3.3.0->ultralytics) (0.12.1)\n",
      "Requirement already satisfied: fonttools>=4.22.0 in /opt/miniconda3/envs/pytorch/lib/python3.10/site-packages (from matplotlib>=3.3.0->ultralytics) (4.53.1)\n",
      "Requirement already satisfied: kiwisolver>=1.3.1 in /opt/miniconda3/envs/pytorch/lib/python3.10/site-packages (from matplotlib>=3.3.0->ultralytics) (1.4.7)\n",
      "Requirement already satisfied: packaging>=20.0 in /opt/miniconda3/envs/pytorch/lib/python3.10/site-packages (from matplotlib>=3.3.0->ultralytics) (24.1)\n",
      "Requirement already satisfied: pyparsing>=2.3.1 in /opt/miniconda3/envs/pytorch/lib/python3.10/site-packages (from matplotlib>=3.3.0->ultralytics) (3.1.4)\n",
      "Requirement already satisfied: python-dateutil>=2.7 in /opt/miniconda3/envs/pytorch/lib/python3.10/site-packages (from matplotlib>=3.3.0->ultralytics) (2.9.0.post0)\n",
      "Requirement already satisfied: pytz>=2020.1 in /opt/miniconda3/envs/pytorch/lib/python3.10/site-packages (from pandas>=1.1.4->ultralytics) (2024.2)\n",
      "Requirement already satisfied: tzdata>=2022.7 in /opt/miniconda3/envs/pytorch/lib/python3.10/site-packages (from pandas>=1.1.4->ultralytics) (2024.1)\n",
      "Requirement already satisfied: charset-normalizer<4,>=2 in /opt/miniconda3/envs/pytorch/lib/python3.10/site-packages (from requests>=2.23.0->ultralytics) (3.3.2)\n",
      "Requirement already satisfied: idna<4,>=2.5 in /opt/miniconda3/envs/pytorch/lib/python3.10/site-packages (from requests>=2.23.0->ultralytics) (3.7)\n",
      "Requirement already satisfied: urllib3<3,>=1.21.1 in /opt/miniconda3/envs/pytorch/lib/python3.10/site-packages (from requests>=2.23.0->ultralytics) (2.2.2)\n",
      "Requirement already satisfied: certifi>=2017.4.17 in /opt/miniconda3/envs/pytorch/lib/python3.10/site-packages (from requests>=2.23.0->ultralytics) (2024.8.30)\n",
      "Requirement already satisfied: filelock in /opt/miniconda3/envs/pytorch/lib/python3.10/site-packages (from torch>=1.8.0->ultralytics) (3.13.1)\n",
      "Requirement already satisfied: typing-extensions>=4.8.0 in /opt/miniconda3/envs/pytorch/lib/python3.10/site-packages (from torch>=1.8.0->ultralytics) (4.11.0)\n",
      "Requirement already satisfied: sympy in /opt/miniconda3/envs/pytorch/lib/python3.10/site-packages (from torch>=1.8.0->ultralytics) (1.13.2)\n",
      "Requirement already satisfied: networkx in /opt/miniconda3/envs/pytorch/lib/python3.10/site-packages (from torch>=1.8.0->ultralytics) (3.2.1)\n",
      "Requirement already satisfied: jinja2 in /opt/miniconda3/envs/pytorch/lib/python3.10/site-packages (from torch>=1.8.0->ultralytics) (3.1.4)\n",
      "Requirement already satisfied: fsspec in /opt/miniconda3/envs/pytorch/lib/python3.10/site-packages (from torch>=1.8.0->ultralytics) (2024.9.0)\n",
      "Requirement already satisfied: six>=1.5 in /opt/miniconda3/envs/pytorch/lib/python3.10/site-packages (from python-dateutil>=2.7->matplotlib>=3.3.0->ultralytics) (1.16.0)\n",
      "Requirement already satisfied: MarkupSafe>=2.0 in /opt/miniconda3/envs/pytorch/lib/python3.10/site-packages (from jinja2->torch>=1.8.0->ultralytics) (2.1.3)\n",
      "Requirement already satisfied: mpmath<1.4,>=1.1.0 in /opt/miniconda3/envs/pytorch/lib/python3.10/site-packages (from sympy->torch>=1.8.0->ultralytics) (1.3.0)\n"
     ]
    }
   ],
   "source": [
    "!pip install ultralytics"
   ]
  },
  {
   "cell_type": "code",
   "execution_count": 39,
   "id": "18413622-24ed-494b-948d-630107520c7d",
   "metadata": {},
   "outputs": [],
   "source": [
    "import os\n",
    "import ultralytics\n",
    "from ultralytics import YOLO\n",
    "import zipfile"
   ]
  },
  {
   "cell_type": "code",
   "execution_count": null,
   "id": "6d946bb2-cd48-48e7-b9d0-9e9d7964884c",
   "metadata": {},
   "outputs": [],
   "source": [
    "# zip 파일 경로를 설정합니다.\n",
    "# zip_file_path = '/content/drive/MyDrive/Colab Notebooks/YOLO/snack_project/code/1st_code/snack_split_data.zip'"
   ]
  },
  {
   "cell_type": "code",
   "execution_count": null,
   "id": "03047071-c974-44c8-aad1-306ff9a26dce",
   "metadata": {},
   "outputs": [],
   "source": [
    "os.makedirs('/content/drive/MyDrive/Colab Notebooks/YOLO/snack_project/code/1st_code/snack_model', exist_ok = True)"
   ]
  },
  {
   "cell_type": "code",
   "execution_count": 40,
   "id": "d44c643a-6265-4bf1-a8d5-c7f8bb3485c4",
   "metadata": {},
   "outputs": [],
   "source": [
    "import torch\n",
    "\n",
    "# cuDNN 비활성화\n",
    "torch.backends.cudnn.enabled = False"
   ]
  },
  {
   "cell_type": "code",
   "execution_count": null,
   "id": "29b11e52-5f8b-4184-9180-8c2b81d5bfc6",
   "metadata": {},
   "outputs": [],
   "source": [
    "# 데이터 경로 설정\n",
    "data_dir = \"/content/snack_split_data1\"\n",
    "# snack_zip = \"/content/snack_split_data2.zip\""
   ]
  },
  {
   "cell_type": "code",
   "execution_count": null,
   "id": "093e600b-062f-4dd7-a983-f6d3266de1d1",
   "metadata": {},
   "outputs": [],
   "source": [
    "def extract_zip_if_needed(zip_folder_path, extract_path):   # zip 폴더위치 / 압축 풀 폴더 위치\n",
    "    # 압축 파일이 풀리지 않았으면 최상위 디렉토리를 제거하고 압축 해제(경로를 복잡하지 않게 하기위해)\n",
    "    if os.path.exists(data_dir):\n",
    "        print(f\"{data_dir} 폴더가 이미 존재합니다.\")\n",
    "        return\n",
    "    else:\n",
    "        print(f\"{data_dir}가 존재하지 않습니다. 압축을 해제하겠습니다.\")\n",
    "        os.makedirs(extract_path, exist_ok=True)  # 압축 해제 폴더 생성(else문 밖에 있어도 상관없음/일단 안으로 넣어둠)\n",
    "        # exist_ok = True : 폴더가 이미 존재하더라도 오류를 내지 않게 함\n",
    "\n",
    "\n",
    "\n",
    "    # 압축 파일 내부의 최상위 디렉토리만 제거하고 파일을 추출하는 방식\n",
    "    # 모든 파일을 한 폴더에 압축을 해제한다면 코드는 매우 간단해지지만\n",
    "    # 추후 test/valid 분리 시 각 클래스별로 일정한 비율로 분리하는게 어려움\n",
    "\n",
    "    # zipfile.ZipFile(zipfile 모듈 사용하여 압축 해제)\n",
    "    with zipfile.ZipFile(zip_folder_path, 'r') as zip_ref:\n",
    "        zip_ref.extractall(extract_path)  # ZIP 파일의 폴더 구조를 그대로 유지하면서 압축 해제\n",
    "    print(f\"{zip_folder_path}폴더가 {extract_path}에 압축해제되었습니다..\")\n",
    "\n",
    "\n",
    "# 압축 해제\n",
    "if os.path.exists(zip_file_path):\n",
    "    print(f\"{zip_file_path}의 압축을 해제하겠습니다.\")\n",
    "    extract_zip_if_needed(zip_file_path, data_dir)\n",
    "else:\n",
    "    print(f\"{data_dir}폴더가 존재하지 않습니다.\")"
   ]
  },
  {
   "cell_type": "code",
   "execution_count": null,
   "id": "894a2006-33be-4970-b862-75be41c560e8",
   "metadata": {},
   "outputs": [],
   "source": [
    "# model = YOLO('yolo11m.pt')"
   ]
  },
  {
   "cell_type": "code",
   "execution_count": null,
   "id": "87bbd086-23db-412e-a5ec-ae6430dd2c84",
   "metadata": {},
   "outputs": [],
   "source": [
    "# 모델 학습 수행\n",
    "# model.train(data='/content/snack_split_data1/snack_split_data/snack_data.yaml', epochs=100, batch = 16, lr0 = 0.001, name = 'snack_11s_sb_data_640')"
   ]
  }
 ],
 "metadata": {
  "kernelspec": {
   "display_name": "Python 3 (ipykernel)",
   "language": "python",
   "name": "python3"
  },
  "language_info": {
   "codemirror_mode": {
    "name": "ipython",
    "version": 3
   },
   "file_extension": ".py",
   "mimetype": "text/x-python",
   "name": "python",
   "nbconvert_exporter": "python",
   "pygments_lexer": "ipython3",
   "version": "3.10.14"
  }
 },
 "nbformat": 4,
 "nbformat_minor": 5
}
